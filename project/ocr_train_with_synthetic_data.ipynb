{
  "nbformat": 4,
  "nbformat_minor": 0,
  "metadata": {
    "colab": {
      "name": "ocr_train_with_synthetic_data.ipynb",
      "provenance": [],
      "collapsed_sections": [],
      "toc_visible": true
    },
    "kernelspec": {
      "name": "python3",
      "display_name": "Python 3"
    },
    "accelerator": "GPU"
  },
  "cells": [
    {
      "cell_type": "markdown",
      "metadata": {
        "id": "ZIDCmDpGIyx8",
        "colab_type": "text"
      },
      "source": [
        "# Treinamento de modelo de OCR (Optical Character Recognition)\n"
      ]
    },
    {
      "cell_type": "markdown",
      "metadata": {
        "id": "8a1xVEnfJEEB",
        "colab_type": "text"
      },
      "source": [
        "## Instala a biblioteca [Albumentations](https://github.com/albumentations-team/albumentations)"
      ]
    },
    {
      "cell_type": "code",
      "metadata": {
        "id": "hEtT5ZnwI_Qw",
        "colab_type": "code",
        "colab": {
          "base_uri": "https://localhost:8080/",
          "height": 530
        },
        "outputId": "72ee767c-3370-4f84-debb-7cd1a814a3da"
      },
      "source": [
        "!pip install albumentations"
      ],
      "execution_count": 1,
      "outputs": [
        {
          "output_type": "stream",
          "text": [
            "Requirement already satisfied: albumentations in /usr/local/lib/python3.6/dist-packages (0.1.12)\n",
            "Requirement already satisfied: scipy in /usr/local/lib/python3.6/dist-packages (from albumentations) (1.4.1)\n",
            "Requirement already satisfied: opencv-python in /usr/local/lib/python3.6/dist-packages (from albumentations) (4.1.2.30)\n",
            "Collecting imgaug<0.2.7,>=0.2.5\n",
            "\u001b[?25l  Downloading https://files.pythonhosted.org/packages/ad/2e/748dbb7bb52ec8667098bae9b585f448569ae520031932687761165419a2/imgaug-0.2.6.tar.gz (631kB)\n",
            "\r\u001b[K     |▌                               | 10kB 25.1MB/s eta 0:00:01\r\u001b[K     |█                               | 20kB 29.8MB/s eta 0:00:01\r\u001b[K     |█▋                              | 30kB 32.2MB/s eta 0:00:01\r\u001b[K     |██                              | 40kB 34.2MB/s eta 0:00:01\r\u001b[K     |██▋                             | 51kB 18.6MB/s eta 0:00:01\r\u001b[K     |███▏                            | 61kB 16.6MB/s eta 0:00:01\r\u001b[K     |███▋                            | 71kB 15.5MB/s eta 0:00:01\r\u001b[K     |████▏                           | 81kB 14.7MB/s eta 0:00:01\r\u001b[K     |████▊                           | 92kB 14.1MB/s eta 0:00:01\r\u001b[K     |█████▏                          | 102kB 14.4MB/s eta 0:00:01\r\u001b[K     |█████▊                          | 112kB 14.4MB/s eta 0:00:01\r\u001b[K     |██████▎                         | 122kB 14.4MB/s eta 0:00:01\r\u001b[K     |██████▊                         | 133kB 14.4MB/s eta 0:00:01\r\u001b[K     |███████▎                        | 143kB 14.4MB/s eta 0:00:01\r\u001b[K     |███████▉                        | 153kB 14.4MB/s eta 0:00:01\r\u001b[K     |████████▎                       | 163kB 14.4MB/s eta 0:00:01\r\u001b[K     |████████▉                       | 174kB 14.4MB/s eta 0:00:01\r\u001b[K     |█████████▍                      | 184kB 14.4MB/s eta 0:00:01\r\u001b[K     |█████████▉                      | 194kB 14.4MB/s eta 0:00:01\r\u001b[K     |██████████▍                     | 204kB 14.4MB/s eta 0:00:01\r\u001b[K     |███████████                     | 215kB 14.4MB/s eta 0:00:01\r\u001b[K     |███████████▍                    | 225kB 14.4MB/s eta 0:00:01\r\u001b[K     |████████████                    | 235kB 14.4MB/s eta 0:00:01\r\u001b[K     |████████████▌                   | 245kB 14.4MB/s eta 0:00:01\r\u001b[K     |█████████████                   | 256kB 14.4MB/s eta 0:00:01\r\u001b[K     |█████████████▌                  | 266kB 14.4MB/s eta 0:00:01\r\u001b[K     |██████████████                  | 276kB 14.4MB/s eta 0:00:01\r\u001b[K     |██████████████▌                 | 286kB 14.4MB/s eta 0:00:01\r\u001b[K     |███████████████                 | 296kB 14.4MB/s eta 0:00:01\r\u001b[K     |███████████████▋                | 307kB 14.4MB/s eta 0:00:01\r\u001b[K     |████████████████                | 317kB 14.4MB/s eta 0:00:01\r\u001b[K     |████████████████▋               | 327kB 14.4MB/s eta 0:00:01\r\u001b[K     |█████████████████▏              | 337kB 14.4MB/s eta 0:00:01\r\u001b[K     |█████████████████▋              | 348kB 14.4MB/s eta 0:00:01\r\u001b[K     |██████████████████▏             | 358kB 14.4MB/s eta 0:00:01\r\u001b[K     |██████████████████▊             | 368kB 14.4MB/s eta 0:00:01\r\u001b[K     |███████████████████▏            | 378kB 14.4MB/s eta 0:00:01\r\u001b[K     |███████████████████▊            | 389kB 14.4MB/s eta 0:00:01\r\u001b[K     |████████████████████▎           | 399kB 14.4MB/s eta 0:00:01\r\u001b[K     |████████████████████▊           | 409kB 14.4MB/s eta 0:00:01\r\u001b[K     |█████████████████████▎          | 419kB 14.4MB/s eta 0:00:01\r\u001b[K     |█████████████████████▉          | 430kB 14.4MB/s eta 0:00:01\r\u001b[K     |██████████████████████▎         | 440kB 14.4MB/s eta 0:00:01\r\u001b[K     |██████████████████████▉         | 450kB 14.4MB/s eta 0:00:01\r\u001b[K     |███████████████████████▍        | 460kB 14.4MB/s eta 0:00:01\r\u001b[K     |███████████████████████▉        | 471kB 14.4MB/s eta 0:00:01\r\u001b[K     |████████████████████████▍       | 481kB 14.4MB/s eta 0:00:01\r\u001b[K     |█████████████████████████       | 491kB 14.4MB/s eta 0:00:01\r\u001b[K     |█████████████████████████▍      | 501kB 14.4MB/s eta 0:00:01\r\u001b[K     |██████████████████████████      | 512kB 14.4MB/s eta 0:00:01\r\u001b[K     |██████████████████████████▌     | 522kB 14.4MB/s eta 0:00:01\r\u001b[K     |███████████████████████████     | 532kB 14.4MB/s eta 0:00:01\r\u001b[K     |███████████████████████████▌    | 542kB 14.4MB/s eta 0:00:01\r\u001b[K     |████████████████████████████    | 552kB 14.4MB/s eta 0:00:01\r\u001b[K     |████████████████████████████▌   | 563kB 14.4MB/s eta 0:00:01\r\u001b[K     |█████████████████████████████   | 573kB 14.4MB/s eta 0:00:01\r\u001b[K     |█████████████████████████████▋  | 583kB 14.4MB/s eta 0:00:01\r\u001b[K     |██████████████████████████████  | 593kB 14.4MB/s eta 0:00:01\r\u001b[K     |██████████████████████████████▋ | 604kB 14.4MB/s eta 0:00:01\r\u001b[K     |███████████████████████████████▏| 614kB 14.4MB/s eta 0:00:01\r\u001b[K     |███████████████████████████████▋| 624kB 14.4MB/s eta 0:00:01\r\u001b[K     |████████████████████████████████| 634kB 14.4MB/s \n",
            "\u001b[?25hRequirement already satisfied: numpy>=1.11.1 in /usr/local/lib/python3.6/dist-packages (from albumentations) (1.18.5)\n",
            "Requirement already satisfied: scikit-image>=0.11.0 in /usr/local/lib/python3.6/dist-packages (from imgaug<0.2.7,>=0.2.5->albumentations) (0.16.2)\n",
            "Requirement already satisfied: six in /usr/local/lib/python3.6/dist-packages (from imgaug<0.2.7,>=0.2.5->albumentations) (1.12.0)\n",
            "Requirement already satisfied: networkx>=2.0 in /usr/local/lib/python3.6/dist-packages (from scikit-image>=0.11.0->imgaug<0.2.7,>=0.2.5->albumentations) (2.4)\n",
            "Requirement already satisfied: PyWavelets>=0.4.0 in /usr/local/lib/python3.6/dist-packages (from scikit-image>=0.11.0->imgaug<0.2.7,>=0.2.5->albumentations) (1.1.1)\n",
            "Requirement already satisfied: pillow>=4.3.0 in /usr/local/lib/python3.6/dist-packages (from scikit-image>=0.11.0->imgaug<0.2.7,>=0.2.5->albumentations) (7.0.0)\n",
            "Requirement already satisfied: imageio>=2.3.0 in /usr/local/lib/python3.6/dist-packages (from scikit-image>=0.11.0->imgaug<0.2.7,>=0.2.5->albumentations) (2.4.1)\n",
            "Requirement already satisfied: matplotlib!=3.0.0,>=2.0.0 in /usr/local/lib/python3.6/dist-packages (from scikit-image>=0.11.0->imgaug<0.2.7,>=0.2.5->albumentations) (3.2.2)\n",
            "Requirement already satisfied: decorator>=4.3.0 in /usr/local/lib/python3.6/dist-packages (from networkx>=2.0->scikit-image>=0.11.0->imgaug<0.2.7,>=0.2.5->albumentations) (4.4.2)\n",
            "Requirement already satisfied: cycler>=0.10 in /usr/local/lib/python3.6/dist-packages (from matplotlib!=3.0.0,>=2.0.0->scikit-image>=0.11.0->imgaug<0.2.7,>=0.2.5->albumentations) (0.10.0)\n",
            "Requirement already satisfied: kiwisolver>=1.0.1 in /usr/local/lib/python3.6/dist-packages (from matplotlib!=3.0.0,>=2.0.0->scikit-image>=0.11.0->imgaug<0.2.7,>=0.2.5->albumentations) (1.2.0)\n",
            "Requirement already satisfied: python-dateutil>=2.1 in /usr/local/lib/python3.6/dist-packages (from matplotlib!=3.0.0,>=2.0.0->scikit-image>=0.11.0->imgaug<0.2.7,>=0.2.5->albumentations) (2.8.1)\n",
            "Requirement already satisfied: pyparsing!=2.0.4,!=2.1.2,!=2.1.6,>=2.0.1 in /usr/local/lib/python3.6/dist-packages (from matplotlib!=3.0.0,>=2.0.0->scikit-image>=0.11.0->imgaug<0.2.7,>=0.2.5->albumentations) (2.4.7)\n",
            "Building wheels for collected packages: imgaug\n",
            "  Building wheel for imgaug (setup.py) ... \u001b[?25l\u001b[?25hdone\n",
            "  Created wheel for imgaug: filename=imgaug-0.2.6-cp36-none-any.whl size=654020 sha256=9d6817e2f9b150d1f8b8302672d635dfd9ac923c8e0cac6ea65ec8117bad5c2f\n",
            "  Stored in directory: /root/.cache/pip/wheels/97/ec/48/0d25896c417b715af6236dbcef8f0bed136a1a5e52972fc6d0\n",
            "Successfully built imgaug\n",
            "Installing collected packages: imgaug\n",
            "  Found existing installation: imgaug 0.2.9\n",
            "    Uninstalling imgaug-0.2.9:\n",
            "      Successfully uninstalled imgaug-0.2.9\n",
            "Successfully installed imgaug-0.2.6\n"
          ],
          "name": "stdout"
        }
      ]
    },
    {
      "cell_type": "markdown",
      "metadata": {
        "id": "rtKzjVDbJvao",
        "colab_type": "text"
      },
      "source": [
        "## Importa as libs e métodos necessárias para treinar o modelo"
      ]
    },
    {
      "cell_type": "code",
      "metadata": {
        "id": "hM-R7tdcJsbC",
        "colab_type": "code",
        "colab": {
          "base_uri": "https://localhost:8080/",
          "height": 34
        },
        "outputId": "018c2f03-e925-469a-d9ef-6b0d77ebf14c"
      },
      "source": [
        "import keras\n",
        "from keras.datasets import mnist\n",
        "from keras.models import Sequential\n",
        "from keras.utils.data_utils import Sequence\n",
        "from keras.layers import Dense, Dropout, Flatten\n",
        "from keras.layers import Conv2D, MaxPooling2D, Lambda, InputLayer\n",
        "from keras.models import model_from_json\n",
        "import matplotlib.pyplot as plt\n",
        "from keras import backend as K\n",
        "import numpy as np\n",
        "import h5py\n",
        "import string\n",
        "from albumentations import (Compose, Rotate, Blur, RandomBrightnessContrast, IAAPerspective, RandomScale)"
      ],
      "execution_count": 2,
      "outputs": [
        {
          "output_type": "stream",
          "text": [
            "Using TensorFlow backend.\n"
          ],
          "name": "stderr"
        }
      ]
    },
    {
      "cell_type": "markdown",
      "metadata": {
        "id": "BF-qYEgAK6sG",
        "colab_type": "text"
      },
      "source": [
        "## Define funções e classes para utilização posterior"
      ]
    },
    {
      "cell_type": "code",
      "metadata": {
        "id": "nEIkrJP73KKS",
        "colab_type": "code",
        "colab": {}
      },
      "source": [
        "# Classe para treinar o modelo com Augmentação dos dados\n",
        "class DataAugmentedGenerator(Sequence):\n",
        "  def __init__(self, images, labels, batch_size, augmentator):\n",
        "    self.images = images\n",
        "    self.labels = labels\n",
        "    self.batch_size = batch_size\n",
        "    self.augmentator = augmentator\n",
        "\n",
        "  def __len__(self):\n",
        "    number_of_batches = np.ceil(len(self.images) / float(self.batch_size))\n",
        "    return int(number_of_batches)\n",
        "\n",
        "  def __getitem__(self, idx):\n",
        "    images_batch = self.images[idx * self.batch_size : (idx + 1) * self.batch_size]\n",
        "    labels_batch = self.labels[idx * self.batch_size : (idx + 1) * self.batch_size]\n",
        "\n",
        "    augmented_batch = [self.augmentator(image = image)[\"image\"]  for image in images_batch]\n",
        "    return np.stack(augmented_batch, axis = 0), np.array(labels_batch)"
      ],
      "execution_count": 3,
      "outputs": []
    },
    {
      "cell_type": "code",
      "metadata": {
        "id": "HUCTI98JN0Sr",
        "colab_type": "code",
        "colab": {}
      },
      "source": [
        "# Função de leitura do arquivo hdf5\n",
        "def read_hdf5_dataset(path_to_hdf5):\n",
        "    hdf5_dataset = h5py.File(path_to_hdf5, \"r\")\n",
        "    characters_images = hdf5_dataset[\"characters_images\"]\n",
        "    characters_labels = hdf5_dataset[\"labels\"]\n",
        "    \n",
        "    return hdf5_dataset, (characters_images, characters_labels)"
      ],
      "execution_count": 4,
      "outputs": []
    },
    {
      "cell_type": "code",
      "metadata": {
        "id": "dwJT9QRjyTA_",
        "colab_type": "code",
        "colab": {}
      },
      "source": [
        "# Função para plotar as métricas observadas durante o treinamento e teste do modelo\n",
        "def plot_training_metrics(history):\n",
        "  fig, ax1 = plt.subplots(nrows = 1, ncols = 2, figsize=(20, 10))\n",
        "  # Printa acurácia para treino e teste\n",
        "  ax1[0].plot(history.history['accuracy'])\n",
        "  ax1[0].plot(history.history['val_accuracy'])\n",
        "  ax1[0].set_title(\"Accuracy x Epochs\", fontsize = 20)\n",
        "  ax1[0].set_ylabel('accuracy', fontsize = 20)\n",
        "  ax1[0].set_xlabel('epoch', fontsize = 20)\n",
        "  ax1[0].legend(['train', 'test'], loc='upper right', prop = {\"size\" : 15})\n",
        "  # Printa loss para treino e teste\n",
        "  ax1[1].plot(history.history['loss'])\n",
        "  ax1[1].plot(history.history['val_loss'])\n",
        "  ax1[1].set_title(\"Loss x Epochs\", fontsize = 20)\n",
        "  ax1[1].set_ylabel('loss', fontsize = 20)\n",
        "  ax1[1].set_xlabel('epoch', fontsize = 20)\n",
        "  ax1[1].legend(['train', 'test'], loc='upper right', prop = {\"size\" : 15})"
      ],
      "execution_count": 5,
      "outputs": []
    },
    {
      "cell_type": "markdown",
      "metadata": {
        "id": "OaEpcKogREdP",
        "colab_type": "text"
      },
      "source": [
        "## Efetua a leitura do dataset e separa em letras e números"
      ]
    },
    {
      "cell_type": "code",
      "metadata": {
        "id": "ldfMoe_dRUe_",
        "colab_type": "code",
        "colab": {
          "base_uri": "https://localhost:8080/",
          "height": 71
        },
        "outputId": "284eae4d-0791-4231-d24b-aa677c380a64"
      },
      "source": [
        "NUMBERS = [str(i) for i in range(10)]\n",
        "LETTERS = list(string.ascii_uppercase)\n",
        "print(\"NUMBERS => \", NUMBERS)\n",
        "print(\"LETTERS => \", LETTERS)"
      ],
      "execution_count": 6,
      "outputs": [
        {
          "output_type": "stream",
          "text": [
            "NUMBERS =>  ['0', '1', '2', '3', '4', '5', '6', '7', '8', '9']\n",
            "LETTERS =>  ['A', 'B', 'C', 'D', 'E', 'F', 'G', 'H', 'I', 'J', 'K', 'L', 'M', 'N', 'O', 'P', 'Q', 'R', 'S', 'T', 'U', 'V', 'W', 'X', 'Y', 'Z']\n"
          ],
          "name": "stdout"
        }
      ]
    },
    {
      "cell_type": "code",
      "metadata": {
        "id": "19em0gxhQ5Eq",
        "colab_type": "code",
        "colab": {}
      },
      "source": [
        "dataset, (characters_images, characters_labels) = read_hdf5_dataset(\"/content/drive/My Drive/Colab Notebooks/characters_dataset.hdf5\")"
      ],
      "execution_count": 7,
      "outputs": []
    },
    {
      "cell_type": "code",
      "metadata": {
        "id": "BShj3tGknOXS",
        "colab_type": "code",
        "colab": {}
      },
      "source": [
        "image_data = np.array(characters_images)\n",
        "label_data = np.array(characters_labels)"
      ],
      "execution_count": 8,
      "outputs": []
    },
    {
      "cell_type": "code",
      "metadata": {
        "id": "51vhTm66jtiM",
        "colab_type": "code",
        "colab": {}
      },
      "source": [
        "# Filtra os indices das labels (Letras x Numeros)\n",
        "letter_indexes = np.nonzero(np.isin(label_data, LETTERS))\n",
        "number_indexes = np.nonzero(np.isin(label_data, NUMBERS))"
      ],
      "execution_count": 9,
      "outputs": []
    },
    {
      "cell_type": "markdown",
      "metadata": {
        "id": "5PwS6aGH3F2l",
        "colab_type": "text"
      },
      "source": [
        "## Treina um modelo para reconhecimento dos números"
      ]
    },
    {
      "cell_type": "code",
      "metadata": {
        "id": "07yE0I8TfhRl",
        "colab_type": "code",
        "colab": {}
      },
      "source": [
        "INPUT_SHAPE = (80, 55, 3) #(height, width, channels)\n",
        "BATCH_SIZE = 500\n",
        "EPOCHS = 5\n",
        "NUMBER_OF_CLASSES = len(NUMBERS)"
      ],
      "execution_count": 10,
      "outputs": []
    },
    {
      "cell_type": "code",
      "metadata": {
        "id": "1Fxdn29jhHVM",
        "colab_type": "code",
        "colab": {}
      },
      "source": [
        "# Separa os dados em treino (80%) e teste (20%)\n",
        "test_idx = int(len(label_data[number_indexes]) * 0.8)\n",
        "train_images = image_data[number_indexes][ :test_idx]\n",
        "test_images = image_data[number_indexes][test_idx: ]\n",
        "train_labels = label_data[number_indexes][ :test_idx]\n",
        "test_labels = label_data[number_indexes][test_idx: ]"
      ],
      "execution_count": 11,
      "outputs": []
    },
    {
      "cell_type": "code",
      "metadata": {
        "id": "u_u5EkWQhh1p",
        "colab_type": "code",
        "colab": {
          "base_uri": "https://localhost:8080/",
          "height": 153
        },
        "outputId": "e809441d-b8b6-4f77-f640-982241cbaa77"
      },
      "source": [
        "# Converte as classes para um vetor de classes (Padrão one-hot-encoding)\n",
        "print(\"Before => \", train_labels)\n",
        "train_labels = keras.utils.to_categorical(train_labels, NUMBER_OF_CLASSES)\n",
        "test_labels = keras.utils.to_categorical(test_labels, NUMBER_OF_CLASSES)\n",
        "print(\"After => \", train_labels)"
      ],
      "execution_count": 12,
      "outputs": [
        {
          "output_type": "stream",
          "text": [
            "Before =>  ['2' '3' '5' ... '4' '8' '3']\n",
            "After =>  [[0. 0. 1. ... 0. 0. 0.]\n",
            " [0. 0. 0. ... 0. 0. 0.]\n",
            " [0. 0. 0. ... 0. 0. 0.]\n",
            " ...\n",
            " [0. 0. 0. ... 0. 0. 0.]\n",
            " [0. 0. 0. ... 0. 1. 0.]\n",
            " [0. 0. 0. ... 0. 0. 0.]]\n"
          ],
          "name": "stdout"
        }
      ]
    },
    {
      "cell_type": "code",
      "metadata": {
        "id": "bLwT2klqfHko",
        "colab_type": "code",
        "colab": {}
      },
      "source": [
        "# Arquitetura da rede\n",
        "model = Sequential()\n",
        "model.add(Lambda( lambda image: image * (1/255.0),  input_shape = INPUT_SHAPE))\n",
        "model.add(Conv2D(32, kernel_size=(3, 3),\n",
        "                 activation='relu'))\n",
        "model.add(Conv2D(64, (3, 3), activation='relu'))\n",
        "model.add(MaxPooling2D(pool_size=(2, 2)))\n",
        "model.add(Dropout(0.25))\n",
        "model.add(Flatten())\n",
        "model.add(Dense(128, activation='relu'))\n",
        "model.add(Dropout(0.5))\n",
        "model.add(Dense(NUMBER_OF_CLASSES, activation='softmax'))\n",
        "\n",
        "model.compile(loss=keras.losses.categorical_crossentropy,\n",
        "              optimizer=keras.optimizers.Adadelta(),\n",
        "              metrics=['accuracy'])"
      ],
      "execution_count": 13,
      "outputs": []
    },
    {
      "cell_type": "code",
      "metadata": {
        "id": "LZukzxRGff1Z",
        "colab_type": "code",
        "colab": {
          "base_uri": "https://localhost:8080/",
          "height": 459
        },
        "outputId": "568c98dc-8e4d-47cc-a0ef-1f930c1ce130"
      },
      "source": [
        "model.summary()"
      ],
      "execution_count": 14,
      "outputs": [
        {
          "output_type": "stream",
          "text": [
            "Model: \"sequential_1\"\n",
            "_________________________________________________________________\n",
            "Layer (type)                 Output Shape              Param #   \n",
            "=================================================================\n",
            "lambda_1 (Lambda)            (None, 80, 55, 3)         0         \n",
            "_________________________________________________________________\n",
            "conv2d_1 (Conv2D)            (None, 78, 53, 32)        896       \n",
            "_________________________________________________________________\n",
            "conv2d_2 (Conv2D)            (None, 76, 51, 64)        18496     \n",
            "_________________________________________________________________\n",
            "max_pooling2d_1 (MaxPooling2 (None, 38, 25, 64)        0         \n",
            "_________________________________________________________________\n",
            "dropout_1 (Dropout)          (None, 38, 25, 64)        0         \n",
            "_________________________________________________________________\n",
            "flatten_1 (Flatten)          (None, 60800)             0         \n",
            "_________________________________________________________________\n",
            "dense_1 (Dense)              (None, 128)               7782528   \n",
            "_________________________________________________________________\n",
            "dropout_2 (Dropout)          (None, 128)               0         \n",
            "_________________________________________________________________\n",
            "dense_2 (Dense)              (None, 10)                1290      \n",
            "=================================================================\n",
            "Total params: 7,803,210\n",
            "Trainable params: 7,803,210\n",
            "Non-trainable params: 0\n",
            "_________________________________________________________________\n"
          ],
          "name": "stdout"
        }
      ]
    },
    {
      "cell_type": "code",
      "metadata": {
        "id": "lcKbbvWgpXm_",
        "colab_type": "code",
        "colab": {}
      },
      "source": [
        "# Instancia os geradores de imagens augmentadas\n",
        "AUGMENTATOR = Compose(  [Rotate(15), Blur(5), IAAPerspective(scale = (0.025, 0.05), p = 0.8),\n",
        "                        RandomBrightnessContrast(brightness_limit = 0.35, contrast_limit = 0.35)], \n",
        "                        p = 0.7 )\n",
        "train_generator = DataAugmentedGenerator(train_images, train_labels, batch_size = BATCH_SIZE, augmentator = AUGMENTATOR)\n",
        "test_generator = DataAugmentedGenerator(test_images, test_labels, batch_size = BATCH_SIZE, augmentator = AUGMENTATOR) "
      ],
      "execution_count": 15,
      "outputs": []
    },
    {
      "cell_type": "code",
      "metadata": {
        "id": "nbzGNBnIRO06",
        "colab_type": "code",
        "colab": {
          "base_uri": "https://localhost:8080/",
          "height": 207
        },
        "outputId": "e932ef6d-e0c7-44e3-e9d1-1d607ffcdf8c"
      },
      "source": [
        "# Treina o modelo\n",
        "history = model.fit(train_generator,\n",
        "          epochs = EPOCHS,\n",
        "          verbose=1,\n",
        "          validation_data = test_generator)"
      ],
      "execution_count": 16,
      "outputs": [
        {
          "output_type": "stream",
          "text": [
            "Epoch 1/5\n",
            "31/31 [==============================] - 27s 886ms/step - loss: 1.2165 - accuracy: 0.6173 - val_loss: 0.0724 - val_accuracy: 0.9951\n",
            "Epoch 2/5\n",
            "31/31 [==============================] - 26s 839ms/step - loss: 0.1249 - accuracy: 0.9679 - val_loss: 0.0054 - val_accuracy: 0.9990\n",
            "Epoch 3/5\n",
            "31/31 [==============================] - 26s 850ms/step - loss: 0.0566 - accuracy: 0.9842 - val_loss: 0.0020 - val_accuracy: 0.9997\n",
            "Epoch 4/5\n",
            "31/31 [==============================] - 26s 841ms/step - loss: 0.0352 - accuracy: 0.9898 - val_loss: 6.3440e-04 - val_accuracy: 0.9995\n",
            "Epoch 5/5\n",
            "31/31 [==============================] - 26s 854ms/step - loss: 0.0337 - accuracy: 0.9897 - val_loss: 3.2288e-04 - val_accuracy: 0.9997\n"
          ],
          "name": "stdout"
        }
      ]
    },
    {
      "cell_type": "code",
      "metadata": {
        "id": "wk_Okhvkr_2U",
        "colab_type": "code",
        "colab": {
          "base_uri": "https://localhost:8080/",
          "height": 550
        },
        "outputId": "279edccf-11f4-40d9-f115-32db33efd7c9"
      },
      "source": [
        "plot_training_metrics(history)"
      ],
      "execution_count": 17,
      "outputs": [
        {
          "output_type": "display_data",
          "data": {
            "image/png": "[encoded data removed]",
            "text/plain": [
              "<Figure size 1440x720 with 2 Axes>"
            ]
          },
          "metadata": {
            "tags": [],
            "needs_background": "light"
          }
        }
      ]
    },
    {
      "cell_type": "code",
      "metadata": {
        "id": "HflQ8Dozy3-F",
        "colab_type": "code",
        "colab": {}
      },
      "source": [
        "model.save(\"/content/drive/My Drive/Colab Notebooks/ocr_models/numbers_model.h5\")"
      ],
      "execution_count": 18,
      "outputs": []
    },
    {
      "cell_type": "markdown",
      "metadata": {
        "id": "7uvYlZmocZsH",
        "colab_type": "text"
      },
      "source": [
        "## Treina um modelo para reconhecimento das letras"
      ]
    },
    {
      "cell_type": "code",
      "metadata": {
        "id": "-NKU3T_7cfeO",
        "colab_type": "code",
        "colab": {}
      },
      "source": [
        "INPUT_SHAPE = (80, 55, 3) #(height, width, channels)\n",
        "BATCH_SIZE = 500\n",
        "EPOCHS = 5\n",
        "NUMBER_OF_CLASSES = len(LETTERS)"
      ],
      "execution_count": 19,
      "outputs": []
    },
    {
      "cell_type": "code",
      "metadata": {
        "id": "0X85v-x4ehvq",
        "colab_type": "code",
        "colab": {}
      },
      "source": [
        "# Separa os dados em treino (80%) e teste (20%)\n",
        "test_idx = int(len(label_data[letter_indexes]) * 0.8)\n",
        "train_images = image_data[letter_indexes][ :test_idx]\n",
        "test_images = image_data[letter_indexes][test_idx: ]\n",
        "train_labels = label_data[letter_indexes][ :test_idx]\n",
        "test_labels = label_data[letter_indexes][test_idx: ]"
      ],
      "execution_count": 20,
      "outputs": []
    },
    {
      "cell_type": "code",
      "metadata": {
        "id": "aCnKUvr2et7f",
        "colab_type": "code",
        "colab": {
          "base_uri": "https://localhost:8080/",
          "height": 88
        },
        "outputId": "a62826db-f7ad-42f8-c912-f5e97d010a84"
      },
      "source": [
        "# Converte as classes para um vetor de classes (Padrão one-hot-encoding), porém como são strings, devemos antes mapear cada string para uma valor em inteiro\n",
        "letters_mapping = {letter : idx for idx,letter in enumerate(LETTERS)}\n",
        "print(\"Letters mapping => \", letters_mapping)\n",
        "print(\"Train labels before mapping => \", train_labels)\n",
        "train_labels = [letters_mapping[label] for label in train_labels]\n",
        "test_labels = [letters_mapping[label] for label in test_labels]\n",
        "print(\"Train labels after mapping => \", train_labels[:10])\n",
        "train_labels = keras.utils.to_categorical(train_labels, NUMBER_OF_CLASSES)\n",
        "test_labels = keras.utils.to_categorical(test_labels, NUMBER_OF_CLASSES)"
      ],
      "execution_count": 21,
      "outputs": [
        {
          "output_type": "stream",
          "text": [
            "Letters mapping =>  {'A': 0, 'B': 1, 'C': 2, 'D': 3, 'E': 4, 'F': 5, 'G': 6, 'H': 7, 'I': 8, 'J': 9, 'K': 10, 'L': 11, 'M': 12, 'N': 13, 'O': 14, 'P': 15, 'Q': 16, 'R': 17, 'S': 18, 'T': 19, 'U': 20, 'V': 21, 'W': 22, 'X': 23, 'Y': 24, 'Z': 25}\n",
            "Train labels before mapping =>  ['U' 'T' 'U' ... 'G' 'J' 'D']\n",
            "Train labels after mapping =>  [20, 19, 20, 19, 11, 25, 2, 8, 25, 17]\n"
          ],
          "name": "stdout"
        }
      ]
    },
    {
      "cell_type": "code",
      "metadata": {
        "id": "okZBaySTexaT",
        "colab_type": "code",
        "colab": {}
      },
      "source": [
        "# Arquitetura da rede\n",
        "model = Sequential()\n",
        "model.add(Lambda( lambda image: image * (1/255.0), input_shape = INPUT_SHAPE ))\n",
        "model.add(Conv2D(32, kernel_size = (3, 3), activation = 'relu'))\n",
        "model.add(Conv2D(64, kernel_size = (3, 3), activation = 'relu'))\n",
        "model.add(MaxPooling2D(pool_size = (2, 2)))\n",
        "model.add(Dropout(0.25))\n",
        "model.add(Flatten())\n",
        "model.add(Dense(128, activation = 'relu'))\n",
        "model.add(Dropout(0.5))\n",
        "model.add(Dense(NUMBER_OF_CLASSES, activation = 'softmax'))\n",
        "\n",
        "model.compile(loss=keras.losses.categorical_crossentropy,\n",
        "              optimizer=keras.optimizers.Adadelta(),\n",
        "              metrics=['accuracy'])"
      ],
      "execution_count": 22,
      "outputs": []
    },
    {
      "cell_type": "code",
      "metadata": {
        "id": "G58SiqXOfHAp",
        "colab_type": "code",
        "colab": {
          "base_uri": "https://localhost:8080/",
          "height": 459
        },
        "outputId": "5ef6a6a9-ee07-4d82-95fa-dd9ea70fa044"
      },
      "source": [
        "model.summary()"
      ],
      "execution_count": 23,
      "outputs": [
        {
          "output_type": "stream",
          "text": [
            "Model: \"sequential_2\"\n",
            "_________________________________________________________________\n",
            "Layer (type)                 Output Shape              Param #   \n",
            "=================================================================\n",
            "lambda_2 (Lambda)            (None, 80, 55, 3)         0         \n",
            "_________________________________________________________________\n",
            "conv2d_3 (Conv2D)            (None, 78, 53, 32)        896       \n",
            "_________________________________________________________________\n",
            "conv2d_4 (Conv2D)            (None, 76, 51, 64)        18496     \n",
            "_________________________________________________________________\n",
            "max_pooling2d_2 (MaxPooling2 (None, 38, 25, 64)        0         \n",
            "_________________________________________________________________\n",
            "dropout_3 (Dropout)          (None, 38, 25, 64)        0         \n",
            "_________________________________________________________________\n",
            "flatten_2 (Flatten)          (None, 60800)             0         \n",
            "_________________________________________________________________\n",
            "dense_3 (Dense)              (None, 128)               7782528   \n",
            "_________________________________________________________________\n",
            "dropout_4 (Dropout)          (None, 128)               0         \n",
            "_________________________________________________________________\n",
            "dense_4 (Dense)              (None, 26)                3354      \n",
            "=================================================================\n",
            "Total params: 7,805,274\n",
            "Trainable params: 7,805,274\n",
            "Non-trainable params: 0\n",
            "_________________________________________________________________\n"
          ],
          "name": "stdout"
        }
      ]
    },
    {
      "cell_type": "code",
      "metadata": {
        "id": "DqY3dhoIfKZr",
        "colab_type": "code",
        "colab": {}
      },
      "source": [
        "# Instancia os geradores de imagens augmentadas\n",
        "AUGMENTATOR = Compose(  [Rotate(15), Blur(5), IAAPerspective(scale = (0.025, 0.05), p = 0.8),\n",
        "                        RandomBrightnessContrast(brightness_limit = 0.35, contrast_limit = 0.35)], \n",
        "                        p = 0.7 )\n",
        "train_generator = DataAugmentedGenerator(train_images, train_labels, batch_size = BATCH_SIZE, augmentator = AUGMENTATOR)\n",
        "test_generator = DataAugmentedGenerator(test_images, test_labels, batch_size = BATCH_SIZE, augmentator = AUGMENTATOR) "
      ],
      "execution_count": 24,
      "outputs": []
    },
    {
      "cell_type": "code",
      "metadata": {
        "id": "dHf2A4npfRs9",
        "colab_type": "code",
        "colab": {
          "base_uri": "https://localhost:8080/",
          "height": 207
        },
        "outputId": "ee1a2681-dc24-4a87-9f2e-f97d9f876ab6"
      },
      "source": [
        "# Treina o modelo\n",
        "history = model.fit(train_generator,\n",
        "          epochs = EPOCHS,\n",
        "          verbose=1,\n",
        "          validation_data = test_generator)"
      ],
      "execution_count": 25,
      "outputs": [
        {
          "output_type": "stream",
          "text": [
            "Epoch 1/5\n",
            "161/161 [==============================] - 126s 780ms/step - loss: 1.2128 - accuracy: 0.6232 - val_loss: 0.0139 - val_accuracy: 0.9971\n",
            "Epoch 2/5\n",
            "161/161 [==============================] - 119s 737ms/step - loss: 0.2912 - accuracy: 0.8904 - val_loss: 0.0116 - val_accuracy: 0.9984\n",
            "Epoch 3/5\n",
            "161/161 [==============================] - 119s 737ms/step - loss: 0.1776 - accuracy: 0.9320 - val_loss: 1.0174e-04 - val_accuracy: 0.9996\n",
            "Epoch 4/5\n",
            "161/161 [==============================] - 121s 751ms/step - loss: 0.1386 - accuracy: 0.9453 - val_loss: 0.0015 - val_accuracy: 0.9995\n",
            "Epoch 5/5\n",
            "161/161 [==============================] - 120s 742ms/step - loss: 0.1007 - accuracy: 0.9610 - val_loss: 7.6614e-07 - val_accuracy: 0.9999\n"
          ],
          "name": "stdout"
        }
      ]
    },
    {
      "cell_type": "code",
      "metadata": {
        "id": "XZ7XqZKAfUhl",
        "colab_type": "code",
        "colab": {
          "base_uri": "https://localhost:8080/",
          "height": 550
        },
        "outputId": "fd816f61-7e63-41a1-c986-97016a55cdc2"
      },
      "source": [
        "plot_training_metrics(history)"
      ],
      "execution_count": 26,
      "outputs": [
        {
          "output_type": "display_data",
          "data": {
            "image/png": "[encoded data removed]",
            "text/plain": [
              "<Figure size 1440x720 with 2 Axes>"
            ]
          },
          "metadata": {
            "tags": [],
            "needs_background": "light"
          }
        }
      ]
    },
    {
      "cell_type": "code",
      "metadata": {
        "id": "JGq-RrZTfdSc",
        "colab_type": "code",
        "colab": {}
      },
      "source": [
        "model.save(\"/content/drive/My Drive/Colab Notebooks/ocr_models/letters_model.h5\")"
      ],
      "execution_count": 27,
      "outputs": []
    },
    {
      "cell_type": "markdown",
      "metadata": {
        "id": "sww9MbZJfjCK",
        "colab_type": "text"
      },
      "source": [
        "## Fecha o dataset hdf5"
      ]
    },
    {
      "cell_type": "code",
      "metadata": {
        "id": "QV6c29J2K8z6",
        "colab_type": "code",
        "colab": {}
      },
      "source": [
        "dataset.close()"
      ],
      "execution_count": 28,
      "outputs": []
    }
  ]
}