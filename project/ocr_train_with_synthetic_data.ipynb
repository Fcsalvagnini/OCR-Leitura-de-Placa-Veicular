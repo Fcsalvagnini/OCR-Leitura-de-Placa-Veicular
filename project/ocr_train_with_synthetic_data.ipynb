{
  "nbformat": 4,
  "nbformat_minor": 0,
  "metadata": {
    "colab": {
      "name": "ocr_train_with_synthetic_data.ipynb",
      "provenance": [],
      "collapsed_sections": [],
      "toc_visible": true
    },
    "kernelspec": {
      "name": "python3",
      "display_name": "Python 3"
    },
    "accelerator": "GPU"
  },
  "cells": [
    {
      "cell_type": "markdown",
      "metadata": {
        "id": "ZIDCmDpGIyx8",
        "colab_type": "text"
      },
      "source": [
        "# Treinamento de modelo de OCR (Optical Character Recognition)\n"
      ]
    },
    {
      "cell_type": "markdown",
      "metadata": {
        "id": "8a1xVEnfJEEB",
        "colab_type": "text"
      },
      "source": [
        "## Instala a biblioteca [Albumentations](https://github.com/albumentations-team/albumentations)"
      ]
    },
    {
      "cell_type": "code",
      "metadata": {
        "id": "hEtT5ZnwI_Qw",
        "colab_type": "code",
        "outputId": "d502efed-45b9-43d5-d3e0-d323aeafd88b",
        "colab": {
          "base_uri": "https://localhost:8080/",
          "height": 530
        }
      },
      "source": [
        "!pip install albumentations"
      ],
      "execution_count": 1,
      "outputs": [
        {
          "output_type": "stream",
          "text": [
            "Requirement already satisfied: albumentations in /usr/local/lib/python3.6/dist-packages (0.1.12)\n",
            "Requirement already satisfied: numpy>=1.11.1 in /usr/local/lib/python3.6/dist-packages (from albumentations) (1.18.5)\n",
            "Collecting imgaug<0.2.7,>=0.2.5\n",
            "\u001b[?25l  Downloading https://files.pythonhosted.org/packages/ad/2e/748dbb7bb52ec8667098bae9b585f448569ae520031932687761165419a2/imgaug-0.2.6.tar.gz (631kB)\n",
            "\r\u001b[K     |▌                               | 10kB 17.8MB/s eta 0:00:01\r\u001b[K     |█                               | 20kB 1.7MB/s eta 0:00:01\r\u001b[K     |█▋                              | 30kB 2.3MB/s eta 0:00:01\r\u001b[K     |██                              | 40kB 2.5MB/s eta 0:00:01\r\u001b[K     |██▋                             | 51kB 2.0MB/s eta 0:00:01\r\u001b[K     |███▏                            | 61kB 2.2MB/s eta 0:00:01\r\u001b[K     |███▋                            | 71kB 2.5MB/s eta 0:00:01\r\u001b[K     |████▏                           | 81kB 2.7MB/s eta 0:00:01\r\u001b[K     |████▊                           | 92kB 2.9MB/s eta 0:00:01\r\u001b[K     |█████▏                          | 102kB 2.8MB/s eta 0:00:01\r\u001b[K     |█████▊                          | 112kB 2.8MB/s eta 0:00:01\r\u001b[K     |██████▎                         | 122kB 2.8MB/s eta 0:00:01\r\u001b[K     |██████▊                         | 133kB 2.8MB/s eta 0:00:01\r\u001b[K     |███████▎                        | 143kB 2.8MB/s eta 0:00:01\r\u001b[K     |███████▉                        | 153kB 2.8MB/s eta 0:00:01\r\u001b[K     |████████▎                       | 163kB 2.8MB/s eta 0:00:01\r\u001b[K     |████████▉                       | 174kB 2.8MB/s eta 0:00:01\r\u001b[K     |█████████▍                      | 184kB 2.8MB/s eta 0:00:01\r\u001b[K     |█████████▉                      | 194kB 2.8MB/s eta 0:00:01\r\u001b[K     |██████████▍                     | 204kB 2.8MB/s eta 0:00:01\r\u001b[K     |███████████                     | 215kB 2.8MB/s eta 0:00:01\r\u001b[K     |███████████▍                    | 225kB 2.8MB/s eta 0:00:01\r\u001b[K     |████████████                    | 235kB 2.8MB/s eta 0:00:01\r\u001b[K     |████████████▌                   | 245kB 2.8MB/s eta 0:00:01\r\u001b[K     |█████████████                   | 256kB 2.8MB/s eta 0:00:01\r\u001b[K     |█████████████▌                  | 266kB 2.8MB/s eta 0:00:01\r\u001b[K     |██████████████                  | 276kB 2.8MB/s eta 0:00:01\r\u001b[K     |██████████████▌                 | 286kB 2.8MB/s eta 0:00:01\r\u001b[K     |███████████████                 | 296kB 2.8MB/s eta 0:00:01\r\u001b[K     |███████████████▋                | 307kB 2.8MB/s eta 0:00:01\r\u001b[K     |████████████████                | 317kB 2.8MB/s eta 0:00:01\r\u001b[K     |████████████████▋               | 327kB 2.8MB/s eta 0:00:01\r\u001b[K     |█████████████████▏              | 337kB 2.8MB/s eta 0:00:01\r\u001b[K     |█████████████████▋              | 348kB 2.8MB/s eta 0:00:01\r\u001b[K     |██████████████████▏             | 358kB 2.8MB/s eta 0:00:01\r\u001b[K     |██████████████████▊             | 368kB 2.8MB/s eta 0:00:01\r\u001b[K     |███████████████████▏            | 378kB 2.8MB/s eta 0:00:01\r\u001b[K     |███████████████████▊            | 389kB 2.8MB/s eta 0:00:01\r\u001b[K     |████████████████████▎           | 399kB 2.8MB/s eta 0:00:01\r\u001b[K     |████████████████████▊           | 409kB 2.8MB/s eta 0:00:01\r\u001b[K     |█████████████████████▎          | 419kB 2.8MB/s eta 0:00:01\r\u001b[K     |█████████████████████▉          | 430kB 2.8MB/s eta 0:00:01\r\u001b[K     |██████████████████████▎         | 440kB 2.8MB/s eta 0:00:01\r\u001b[K     |██████████████████████▉         | 450kB 2.8MB/s eta 0:00:01\r\u001b[K     |███████████████████████▍        | 460kB 2.8MB/s eta 0:00:01\r\u001b[K     |███████████████████████▉        | 471kB 2.8MB/s eta 0:00:01\r\u001b[K     |████████████████████████▍       | 481kB 2.8MB/s eta 0:00:01\r\u001b[K     |█████████████████████████       | 491kB 2.8MB/s eta 0:00:01\r\u001b[K     |█████████████████████████▍      | 501kB 2.8MB/s eta 0:00:01\r\u001b[K     |██████████████████████████      | 512kB 2.8MB/s eta 0:00:01\r\u001b[K     |██████████████████████████▌     | 522kB 2.8MB/s eta 0:00:01\r\u001b[K     |███████████████████████████     | 532kB 2.8MB/s eta 0:00:01\r\u001b[K     |███████████████████████████▌    | 542kB 2.8MB/s eta 0:00:01\r\u001b[K     |████████████████████████████    | 552kB 2.8MB/s eta 0:00:01\r\u001b[K     |████████████████████████████▌   | 563kB 2.8MB/s eta 0:00:01\r\u001b[K     |█████████████████████████████   | 573kB 2.8MB/s eta 0:00:01\r\u001b[K     |█████████████████████████████▋  | 583kB 2.8MB/s eta 0:00:01\r\u001b[K     |██████████████████████████████  | 593kB 2.8MB/s eta 0:00:01\r\u001b[K     |██████████████████████████████▋ | 604kB 2.8MB/s eta 0:00:01\r\u001b[K     |███████████████████████████████▏| 614kB 2.8MB/s eta 0:00:01\r\u001b[K     |███████████████████████████████▋| 624kB 2.8MB/s eta 0:00:01\r\u001b[K     |████████████████████████████████| 634kB 2.8MB/s \n",
            "\u001b[?25hRequirement already satisfied: opencv-python in /usr/local/lib/python3.6/dist-packages (from albumentations) (4.1.2.30)\n",
            "Requirement already satisfied: scipy in /usr/local/lib/python3.6/dist-packages (from albumentations) (1.4.1)\n",
            "Requirement already satisfied: scikit-image>=0.11.0 in /usr/local/lib/python3.6/dist-packages (from imgaug<0.2.7,>=0.2.5->albumentations) (0.16.2)\n",
            "Requirement already satisfied: six in /usr/local/lib/python3.6/dist-packages (from imgaug<0.2.7,>=0.2.5->albumentations) (1.12.0)\n",
            "Requirement already satisfied: imageio>=2.3.0 in /usr/local/lib/python3.6/dist-packages (from scikit-image>=0.11.0->imgaug<0.2.7,>=0.2.5->albumentations) (2.4.1)\n",
            "Requirement already satisfied: matplotlib!=3.0.0,>=2.0.0 in /usr/local/lib/python3.6/dist-packages (from scikit-image>=0.11.0->imgaug<0.2.7,>=0.2.5->albumentations) (3.2.1)\n",
            "Requirement already satisfied: pillow>=4.3.0 in /usr/local/lib/python3.6/dist-packages (from scikit-image>=0.11.0->imgaug<0.2.7,>=0.2.5->albumentations) (7.0.0)\n",
            "Requirement already satisfied: networkx>=2.0 in /usr/local/lib/python3.6/dist-packages (from scikit-image>=0.11.0->imgaug<0.2.7,>=0.2.5->albumentations) (2.4)\n",
            "Requirement already satisfied: PyWavelets>=0.4.0 in /usr/local/lib/python3.6/dist-packages (from scikit-image>=0.11.0->imgaug<0.2.7,>=0.2.5->albumentations) (1.1.1)\n",
            "Requirement already satisfied: python-dateutil>=2.1 in /usr/local/lib/python3.6/dist-packages (from matplotlib!=3.0.0,>=2.0.0->scikit-image>=0.11.0->imgaug<0.2.7,>=0.2.5->albumentations) (2.8.1)\n",
            "Requirement already satisfied: cycler>=0.10 in /usr/local/lib/python3.6/dist-packages (from matplotlib!=3.0.0,>=2.0.0->scikit-image>=0.11.0->imgaug<0.2.7,>=0.2.5->albumentations) (0.10.0)\n",
            "Requirement already satisfied: kiwisolver>=1.0.1 in /usr/local/lib/python3.6/dist-packages (from matplotlib!=3.0.0,>=2.0.0->scikit-image>=0.11.0->imgaug<0.2.7,>=0.2.5->albumentations) (1.2.0)\n",
            "Requirement already satisfied: pyparsing!=2.0.4,!=2.1.2,!=2.1.6,>=2.0.1 in /usr/local/lib/python3.6/dist-packages (from matplotlib!=3.0.0,>=2.0.0->scikit-image>=0.11.0->imgaug<0.2.7,>=0.2.5->albumentations) (2.4.7)\n",
            "Requirement already satisfied: decorator>=4.3.0 in /usr/local/lib/python3.6/dist-packages (from networkx>=2.0->scikit-image>=0.11.0->imgaug<0.2.7,>=0.2.5->albumentations) (4.4.2)\n",
            "Building wheels for collected packages: imgaug\n",
            "  Building wheel for imgaug (setup.py) ... \u001b[?25l\u001b[?25hdone\n",
            "  Created wheel for imgaug: filename=imgaug-0.2.6-cp36-none-any.whl size=654020 sha256=d32bbe913bcdbe0f75b05ed6a59bb9b1cc5aefa8dadb6e0b072507ff5cf2d72d\n",
            "  Stored in directory: /root/.cache/pip/wheels/97/ec/48/0d25896c417b715af6236dbcef8f0bed136a1a5e52972fc6d0\n",
            "Successfully built imgaug\n",
            "Installing collected packages: imgaug\n",
            "  Found existing installation: imgaug 0.2.9\n",
            "    Uninstalling imgaug-0.2.9:\n",
            "      Successfully uninstalled imgaug-0.2.9\n",
            "Successfully installed imgaug-0.2.6\n"
          ],
          "name": "stdout"
        }
      ]
    },
    {
      "cell_type": "markdown",
      "metadata": {
        "id": "rtKzjVDbJvao",
        "colab_type": "text"
      },
      "source": [
        "## Importa as libs e métodos necessárias para treinar o modelo"
      ]
    },
    {
      "cell_type": "code",
      "metadata": {
        "id": "hM-R7tdcJsbC",
        "colab_type": "code",
        "outputId": "242fc4b8-8391-4455-d09d-2662abedb310",
        "colab": {
          "base_uri": "https://localhost:8080/",
          "height": 34
        }
      },
      "source": [
        "import keras\n",
        "from keras.datasets import mnist\n",
        "from keras.models import Sequential\n",
        "from keras.utils.data_utils import Sequence\n",
        "from keras.layers import Dense, Dropout, Flatten\n",
        "from keras.layers import Conv2D, MaxPooling2D, Lambda, InputLayer\n",
        "from keras.models import model_from_json\n",
        "import matplotlib.pyplot as plt\n",
        "from keras import backend as K\n",
        "import numpy as np\n",
        "import h5py\n",
        "import string\n",
        "from albumentations import (Compose, Rotate, Blur, RandomBrightnessContrast, IAAPerspective, RandomScale)"
      ],
      "execution_count": 2,
      "outputs": [
        {
          "output_type": "stream",
          "text": [
            "Using TensorFlow backend.\n"
          ],
          "name": "stderr"
        }
      ]
    },
    {
      "cell_type": "markdown",
      "metadata": {
        "id": "BF-qYEgAK6sG",
        "colab_type": "text"
      },
      "source": [
        "## Define funções e classes para utilização posterior"
      ]
    },
    {
      "cell_type": "code",
      "metadata": {
        "id": "nEIkrJP73KKS",
        "colab_type": "code",
        "colab": {}
      },
      "source": [
        "# Classe para treinar o modelo com Augmentação dos dados\n",
        "class DataAgumented(Sequence):\n",
        "  def __init__(self, images, labels, batch_size, augmentator):\n",
        "    self.images = images\n",
        "    self.labels = labels\n",
        "    self.batch_size = batch_size\n",
        "    self.augmentator = augmentator\n",
        "\n",
        "  def __len__(self):\n",
        "    number_of_batches = np.ceil(len(self.images) / float(self.batch_size))\n",
        "    return int(number_of_batches)\n",
        "\n",
        "  def __getitem__(self, idx):\n",
        "    images_batch = self.images[idx * self.batch_size : (idx + 1) * self.batch_size]\n",
        "    labels_batch = self.labels[idx * self.batch_size : (idx + 1) * self.batch_size]\n",
        "\n",
        "    augmented_batch = [self.augmentator(image = image)[\"image\"]  for image in images_batch]\n",
        "    return np.stack(augmented_batch, axis = 0), np.array(labels_batch)"
      ],
      "execution_count": 0,
      "outputs": []
    },
    {
      "cell_type": "code",
      "metadata": {
        "id": "HUCTI98JN0Sr",
        "colab_type": "code",
        "colab": {}
      },
      "source": [
        "# Função de leitura do arquivo hdf5\n",
        "def read_hdf5_dataset(path_to_hdf5):\n",
        "    hdf5_dataset = h5py.File(path_to_hdf5, \"r\")\n",
        "    characters_images = hdf5_dataset[\"characters_images\"]\n",
        "    characters_labels = hdf5_dataset[\"labels\"]\n",
        "    \n",
        "    return hdf5_dataset, (characters_images, characters_labels)"
      ],
      "execution_count": 0,
      "outputs": []
    },
    {
      "cell_type": "code",
      "metadata": {
        "id": "dwJT9QRjyTA_",
        "colab_type": "code",
        "colab": {}
      },
      "source": [
        "# Função para plotar as métricas observadas durante o treinamento e teste do modelo\n",
        "def plot_training_metrics(history):\n",
        "  fig, ax1 = plt.subplots(nrows = 1, ncols = 2, figsize=(20, 10))\n",
        "  # Printa acurácia para treino e teste\n",
        "  ax1[0].plot(history.history['accuracy'])\n",
        "  ax1[0].plot(history.history['val_accuracy'])\n",
        "  ax1[0].set_title(\"Accuracy x Epochs\", fontsize = 20)\n",
        "  ax1[0].set_ylabel('accuracy', fontsize = 20)\n",
        "  ax1[0].set_xlabel('epoch', fontsize = 20)\n",
        "  ax1[0].legend(['train', 'test'], loc='upper right', prop = {\"size\" : 15})\n",
        "  # Printa loss para treino e teste\n",
        "  ax1[1].plot(history.history['loss'])\n",
        "  ax1[1].plot(history.history['val_loss'])\n",
        "  ax1[1].set_title(\"Loss x Epochs\", fontsize = 20)\n",
        "  ax1[1].set_ylabel('loss', fontsize = 20)\n",
        "  ax1[1].set_xlabel('epoch', fontsize = 20)\n",
        "  ax1[1].legend(['train', 'test'], loc='upper right', prop = {\"size\" : 15})"
      ],
      "execution_count": 0,
      "outputs": []
    },
    {
      "cell_type": "markdown",
      "metadata": {
        "id": "OaEpcKogREdP",
        "colab_type": "text"
      },
      "source": [
        "## Efetua a leitura do dataset e separa em letras e números"
      ]
    },
    {
      "cell_type": "code",
      "metadata": {
        "id": "ldfMoe_dRUe_",
        "colab_type": "code",
        "outputId": "bca97d4f-0f82-4d72-bbe3-8e756bee6700",
        "colab": {
          "base_uri": "https://localhost:8080/",
          "height": 71
        }
      },
      "source": [
        "NUMBERS = [str(i) for i in range(10)]\n",
        "LETTERS = list(string.ascii_uppercase)\n",
        "print(\"NUMBERS => \", NUMBERS)\n",
        "print(\"LETTERS => \", LETTERS)"
      ],
      "execution_count": 6,
      "outputs": [
        {
          "output_type": "stream",
          "text": [
            "NUMBERS =>  ['0', '1', '2', '3', '4', '5', '6', '7', '8', '9']\n",
            "LETTERS =>  ['A', 'B', 'C', 'D', 'E', 'F', 'G', 'H', 'I', 'J', 'K', 'L', 'M', 'N', 'O', 'P', 'Q', 'R', 'S', 'T', 'U', 'V', 'W', 'X', 'Y', 'Z']\n"
          ],
          "name": "stdout"
        }
      ]
    },
    {
      "cell_type": "code",
      "metadata": {
        "id": "19em0gxhQ5Eq",
        "colab_type": "code",
        "colab": {}
      },
      "source": [
        "dataset, (characters_images, characters_labels) = read_hdf5_dataset(\"/content/drive/My Drive/Colab Notebooks/characters_dataset.hdf5\")"
      ],
      "execution_count": 0,
      "outputs": []
    },
    {
      "cell_type": "code",
      "metadata": {
        "id": "BShj3tGknOXS",
        "colab_type": "code",
        "colab": {}
      },
      "source": [
        "image_data = np.array(characters_images)\n",
        "label_data = np.array(characters_labels)"
      ],
      "execution_count": 0,
      "outputs": []
    },
    {
      "cell_type": "code",
      "metadata": {
        "id": "51vhTm66jtiM",
        "colab_type": "code",
        "colab": {}
      },
      "source": [
        "# Filtra os indices das labels (Letras x Numeros)\n",
        "letter_indexes = np.nonzero(np.isin(label_data, LETTERS))\n",
        "number_indexes = np.nonzero(np.isin(label_data, NUMBERS))"
      ],
      "execution_count": 0,
      "outputs": []
    },
    {
      "cell_type": "markdown",
      "metadata": {
        "id": "5PwS6aGH3F2l",
        "colab_type": "text"
      },
      "source": [
        "## Treina um modelo para reconhecimento dos números"
      ]
    },
    {
      "cell_type": "code",
      "metadata": {
        "id": "07yE0I8TfhRl",
        "colab_type": "code",
        "colab": {}
      },
      "source": [
        "INPUT_SHAPE = (80, 55, 3) #(height, width, channels)\n",
        "BATCH_SIZE = 500\n",
        "EPOCHS = 5\n",
        "NUMBER_OF_CLASSES = len(NUMBERS)"
      ],
      "execution_count": 0,
      "outputs": []
    },
    {
      "cell_type": "code",
      "metadata": {
        "id": "1Fxdn29jhHVM",
        "colab_type": "code",
        "colab": {}
      },
      "source": [
        "# Separa os dados em treino (80%) e teste (20%)\n",
        "test_idx = int(len(label_data[number_indexes]) * 0.8)\n",
        "train_images = image_data[number_indexes][ :test_idx]\n",
        "test_images = image_data[number_indexes][test_idx: ]\n",
        "train_labels = label_data[number_indexes][ :test_idx]\n",
        "test_labels = label_data[number_indexes][test_idx: ]"
      ],
      "execution_count": 0,
      "outputs": []
    },
    {
      "cell_type": "code",
      "metadata": {
        "id": "u_u5EkWQhh1p",
        "colab_type": "code",
        "outputId": "33c23e02-7259-4af7-c001-57ec2eae055c",
        "colab": {
          "base_uri": "https://localhost:8080/",
          "height": 153
        }
      },
      "source": [
        "# Converte as classes para um vetor de classes (Padrão one-hot-encoding)\n",
        "print(\"Before => \", train_labels)\n",
        "train_labels = keras.utils.to_categorical(train_labels, NUMBER_OF_CLASSES)\n",
        "test_labels = keras.utils.to_categorical(test_labels, NUMBER_OF_CLASSES)\n",
        "print(\"After => \", train_labels)"
      ],
      "execution_count": 12,
      "outputs": [
        {
          "output_type": "stream",
          "text": [
            "Before =>  ['2' '3' '5' ... '4' '8' '3']\n",
            "After =>  [[0. 0. 1. ... 0. 0. 0.]\n",
            " [0. 0. 0. ... 0. 0. 0.]\n",
            " [0. 0. 0. ... 0. 0. 0.]\n",
            " ...\n",
            " [0. 0. 0. ... 0. 0. 0.]\n",
            " [0. 0. 0. ... 0. 1. 0.]\n",
            " [0. 0. 0. ... 0. 0. 0.]]\n"
          ],
          "name": "stdout"
        }
      ]
    },
    {
      "cell_type": "code",
      "metadata": {
        "id": "bLwT2klqfHko",
        "colab_type": "code",
        "colab": {}
      },
      "source": [
        "# Arquitetura da rede\n",
        "model = Sequential()\n",
        "model.add(Lambda( lambda image: image * (1/255.0),  input_shape = INPUT_SHAPE))\n",
        "model.add(Conv2D(32, kernel_size=(3, 3),\n",
        "                 activation='relu'))\n",
        "model.add(Conv2D(64, (3, 3), activation='relu'))\n",
        "model.add(MaxPooling2D(pool_size=(2, 2)))\n",
        "model.add(Dropout(0.25))\n",
        "model.add(Flatten())\n",
        "model.add(Dense(128, activation='relu'))\n",
        "model.add(Dropout(0.5))\n",
        "model.add(Dense(NUMBER_OF_CLASSES, activation='softmax'))\n",
        "\n",
        "model.compile(loss=keras.losses.categorical_crossentropy,\n",
        "              optimizer=keras.optimizers.Adadelta(),\n",
        "              metrics=['accuracy'])"
      ],
      "execution_count": 0,
      "outputs": []
    },
    {
      "cell_type": "code",
      "metadata": {
        "id": "LZukzxRGff1Z",
        "colab_type": "code",
        "outputId": "c067794b-d60d-47a3-cc22-91af93321826",
        "colab": {
          "base_uri": "https://localhost:8080/",
          "height": 459
        }
      },
      "source": [
        "model.summary()"
      ],
      "execution_count": 14,
      "outputs": [
        {
          "output_type": "stream",
          "text": [
            "Model: \"sequential_1\"\n",
            "_________________________________________________________________\n",
            "Layer (type)                 Output Shape              Param #   \n",
            "=================================================================\n",
            "lambda_1 (Lambda)            (None, 80, 55, 3)         0         \n",
            "_________________________________________________________________\n",
            "conv2d_1 (Conv2D)            (None, 78, 53, 32)        896       \n",
            "_________________________________________________________________\n",
            "conv2d_2 (Conv2D)            (None, 76, 51, 64)        18496     \n",
            "_________________________________________________________________\n",
            "max_pooling2d_1 (MaxPooling2 (None, 38, 25, 64)        0         \n",
            "_________________________________________________________________\n",
            "dropout_1 (Dropout)          (None, 38, 25, 64)        0         \n",
            "_________________________________________________________________\n",
            "flatten_1 (Flatten)          (None, 60800)             0         \n",
            "_________________________________________________________________\n",
            "dense_1 (Dense)              (None, 128)               7782528   \n",
            "_________________________________________________________________\n",
            "dropout_2 (Dropout)          (None, 128)               0         \n",
            "_________________________________________________________________\n",
            "dense_2 (Dense)              (None, 10)                1290      \n",
            "=================================================================\n",
            "Total params: 7,803,210\n",
            "Trainable params: 7,803,210\n",
            "Non-trainable params: 0\n",
            "_________________________________________________________________\n"
          ],
          "name": "stdout"
        }
      ]
    },
    {
      "cell_type": "code",
      "metadata": {
        "id": "lcKbbvWgpXm_",
        "colab_type": "code",
        "colab": {}
      },
      "source": [
        "# Instancia os geradores de imagens augmentadas\n",
        "AUGMENTATOR = Compose(  [Rotate(15), Blur(5), IAAPerspective(scale = (0.025, 0.05), p = 0.8),\n",
        "                        RandomBrightnessContrast(brightness_limit = 0.35, contrast_limit = 0.35)], \n",
        "                        p = 0.7 )\n",
        "train_generator = DataAgumented(train_images, train_labels, batch_size = BATCH_SIZE, augmentator = AUGMENTATOR)\n",
        "test_generator = DataAgumented(test_images, test_labels, batch_size = BATCH_SIZE, augmentator = AUGMENTATOR) "
      ],
      "execution_count": 0,
      "outputs": []
    },
    {
      "cell_type": "code",
      "metadata": {
        "id": "nbzGNBnIRO06",
        "colab_type": "code",
        "outputId": "bdc07a7e-9365-471b-de5a-b852dbcbbc9c",
        "colab": {
          "base_uri": "https://localhost:8080/",
          "height": 207
        }
      },
      "source": [
        "# Treina o modelo\n",
        "history = model.fit(train_generator,\n",
        "          epochs = EPOCHS,\n",
        "          verbose=1,\n",
        "          validation_data = test_generator)"
      ],
      "execution_count": 16,
      "outputs": [
        {
          "output_type": "stream",
          "text": [
            "Epoch 1/5\n",
            "31/31 [==============================] - 37s 1s/step - loss: 1.2082 - accuracy: 0.6208 - val_loss: 0.1840 - val_accuracy: 0.9543\n",
            "Epoch 2/5\n",
            "31/31 [==============================] - 34s 1s/step - loss: 0.1240 - accuracy: 0.9671 - val_loss: 0.0066 - val_accuracy: 0.9990\n",
            "Epoch 3/5\n",
            "31/31 [==============================] - 35s 1s/step - loss: 0.0497 - accuracy: 0.9872 - val_loss: 0.0014 - val_accuracy: 0.9997\n",
            "Epoch 4/5\n",
            "31/31 [==============================] - 33s 1s/step - loss: 0.0351 - accuracy: 0.9896 - val_loss: 0.0018 - val_accuracy: 0.9995\n",
            "Epoch 5/5\n",
            "31/31 [==============================] - 32s 1s/step - loss: 0.0294 - accuracy: 0.9917 - val_loss: 8.0299e-04 - val_accuracy: 0.9990\n"
          ],
          "name": "stdout"
        }
      ]
    },
    {
      "cell_type": "code",
      "metadata": {
        "id": "wk_Okhvkr_2U",
        "colab_type": "code",
        "outputId": "cbd8d5d1-4d25-4fdf-f40b-4e8e5f44cfd4",
        "colab": {
          "base_uri": "https://localhost:8080/",
          "height": 511
        }
      },
      "source": [
        "plot_training_metrics(history)"
      ],
      "execution_count": 17,
      "outputs": [
        {
          "output_type": "display_data",
          "data": {
            "image/png": "[encoded data removed]",
            "text/plain": [
              "<Figure size 1440x720 with 2 Axes>"
            ]
          },
          "metadata": {
            "tags": [],
            "needs_background": "light"
          }
        }
      ]
    },
    {
      "cell_type": "code",
      "metadata": {
        "id": "HflQ8Dozy3-F",
        "colab_type": "code",
        "colab": {}
      },
      "source": [
        "model.save(\"/content/drive/My Drive/Colab Notebooks/ocr_models/numbers_model.h5\")"
      ],
      "execution_count": 0,
      "outputs": []
    },
    {
      "cell_type": "markdown",
      "metadata": {
        "id": "7uvYlZmocZsH",
        "colab_type": "text"
      },
      "source": [
        "## Treina um modelo para reconhecimento das letras"
      ]
    },
    {
      "cell_type": "code",
      "metadata": {
        "id": "-NKU3T_7cfeO",
        "colab_type": "code",
        "colab": {}
      },
      "source": [
        "INPUT_SHAPE = (80, 55, 3) #(height, width, channels)\n",
        "BATCH_SIZE = 500\n",
        "EPOCHS = 5\n",
        "NUMBER_OF_CLASSES = len(LETTERS)"
      ],
      "execution_count": 0,
      "outputs": []
    },
    {
      "cell_type": "code",
      "metadata": {
        "id": "0X85v-x4ehvq",
        "colab_type": "code",
        "colab": {}
      },
      "source": [
        "# Separa os dados em treino (80%) e teste (20%)\n",
        "test_idx = int(len(label_data[letter_indexes]) * 0.8)\n",
        "train_images = image_data[letter_indexes][ :test_idx]\n",
        "test_images = image_data[letter_indexes][test_idx: ]\n",
        "train_labels = label_data[letter_indexes][ :test_idx]\n",
        "test_labels = label_data[letter_indexes][test_idx: ]"
      ],
      "execution_count": 0,
      "outputs": []
    },
    {
      "cell_type": "code",
      "metadata": {
        "id": "aCnKUvr2et7f",
        "colab_type": "code",
        "outputId": "a01912d3-3d5f-4174-fd14-d530bea15fff",
        "colab": {
          "base_uri": "https://localhost:8080/",
          "height": 88
        }
      },
      "source": [
        "# Converte as classes para um vetor de classes (Padrão one-hot-encoding), porém como são strings, devemos antes mapear cada string para uma valor em inteiro\n",
        "letters_mapping = {letter : idx for idx,letter in enumerate(LETTERS)}\n",
        "print(\"Letters mapping => \", letters_mapping)\n",
        "print(\"Train labels before mapping => \", train_labels)\n",
        "train_labels = [letters_mapping[label] for label in train_labels]\n",
        "test_labels = [letters_mapping[label] for label in test_labels]\n",
        "print(\"Train labels after mapping => \", train_labels[:10])\n",
        "train_labels = keras.utils.to_categorical(train_labels, NUMBER_OF_CLASSES)\n",
        "test_labels = keras.utils.to_categorical(test_labels, NUMBER_OF_CLASSES)"
      ],
      "execution_count": 21,
      "outputs": [
        {
          "output_type": "stream",
          "text": [
            "Letters mapping =>  {'A': 0, 'B': 1, 'C': 2, 'D': 3, 'E': 4, 'F': 5, 'G': 6, 'H': 7, 'I': 8, 'J': 9, 'K': 10, 'L': 11, 'M': 12, 'N': 13, 'O': 14, 'P': 15, 'Q': 16, 'R': 17, 'S': 18, 'T': 19, 'U': 20, 'V': 21, 'W': 22, 'X': 23, 'Y': 24, 'Z': 25}\n",
            "Train labels before mapping =>  ['U' 'T' 'U' ... 'G' 'J' 'D']\n",
            "Train labels after mapping =>  [20, 19, 20, 19, 11, 25, 2, 8, 25, 17]\n"
          ],
          "name": "stdout"
        }
      ]
    },
    {
      "cell_type": "code",
      "metadata": {
        "id": "okZBaySTexaT",
        "colab_type": "code",
        "colab": {}
      },
      "source": [
        "# Arquitetura da rede\n",
        "model = Sequential()\n",
        "model.add(Lambda( lambda image: image * (1/255.0), input_shape = INPUT_SHAPE ))\n",
        "model.add(Conv2D(32, kernel_size = (3, 3), activation = 'relu'))\n",
        "model.add(Conv2D(64, kernel_size = (3, 3), activation = 'relu'))\n",
        "model.add(MaxPooling2D(pool_size = (2, 2)))\n",
        "model.add(Dropout(0.25))\n",
        "model.add(Flatten())\n",
        "model.add(Dense(128, activation = 'relu'))\n",
        "model.add(Dropout(0.5))\n",
        "model.add(Dense(NUMBER_OF_CLASSES, activation = 'softmax'))\n",
        "\n",
        "model.compile(loss=keras.losses.categorical_crossentropy,\n",
        "              optimizer=keras.optimizers.Adadelta(),\n",
        "              metrics=['accuracy'])"
      ],
      "execution_count": 0,
      "outputs": []
    },
    {
      "cell_type": "code",
      "metadata": {
        "id": "G58SiqXOfHAp",
        "colab_type": "code",
        "outputId": "c269a0f9-cdc7-44f9-9def-f2069eaf9600",
        "colab": {
          "base_uri": "https://localhost:8080/",
          "height": 459
        }
      },
      "source": [
        "model.summary()"
      ],
      "execution_count": 23,
      "outputs": [
        {
          "output_type": "stream",
          "text": [
            "Model: \"sequential_2\"\n",
            "_________________________________________________________________\n",
            "Layer (type)                 Output Shape              Param #   \n",
            "=================================================================\n",
            "lambda_2 (Lambda)            (None, 80, 55, 3)         0         \n",
            "_________________________________________________________________\n",
            "conv2d_3 (Conv2D)            (None, 78, 53, 32)        896       \n",
            "_________________________________________________________________\n",
            "conv2d_4 (Conv2D)            (None, 76, 51, 64)        18496     \n",
            "_________________________________________________________________\n",
            "max_pooling2d_2 (MaxPooling2 (None, 38, 25, 64)        0         \n",
            "_________________________________________________________________\n",
            "dropout_3 (Dropout)          (None, 38, 25, 64)        0         \n",
            "_________________________________________________________________\n",
            "flatten_2 (Flatten)          (None, 60800)             0         \n",
            "_________________________________________________________________\n",
            "dense_3 (Dense)              (None, 128)               7782528   \n",
            "_________________________________________________________________\n",
            "dropout_4 (Dropout)          (None, 128)               0         \n",
            "_________________________________________________________________\n",
            "dense_4 (Dense)              (None, 26)                3354      \n",
            "=================================================================\n",
            "Total params: 7,805,274\n",
            "Trainable params: 7,805,274\n",
            "Non-trainable params: 0\n",
            "_________________________________________________________________\n"
          ],
          "name": "stdout"
        }
      ]
    },
    {
      "cell_type": "code",
      "metadata": {
        "id": "DqY3dhoIfKZr",
        "colab_type": "code",
        "colab": {}
      },
      "source": [
        "# Instancia os geradores de imagens augmentadas\n",
        "AUGMENTATOR = Compose(  [Rotate(15), Blur(5), IAAPerspective(scale = (0.025, 0.05), p = 0.8),\n",
        "                        RandomBrightnessContrast(brightness_limit = 0.35, contrast_limit = 0.35)], \n",
        "                        p = 0.7 )\n",
        "train_generator = DataAgumented(train_images, train_labels, batch_size = BATCH_SIZE, augmentator = AUGMENTATOR)\n",
        "test_generator = DataAgumented(test_images, test_labels, batch_size = BATCH_SIZE, augmentator = AUGMENTATOR) "
      ],
      "execution_count": 0,
      "outputs": []
    },
    {
      "cell_type": "code",
      "metadata": {
        "id": "dHf2A4npfRs9",
        "colab_type": "code",
        "outputId": "9b202624-013a-4028-9ad8-61b90dcc534a",
        "colab": {
          "base_uri": "https://localhost:8080/",
          "height": 207
        }
      },
      "source": [
        "# Treina o modelo\n",
        "history = model.fit(train_generator,\n",
        "          epochs = EPOCHS,\n",
        "          verbose=1,\n",
        "          validation_data = test_generator)"
      ],
      "execution_count": 25,
      "outputs": [
        {
          "output_type": "stream",
          "text": [
            "Epoch 1/5\n",
            "161/161 [==============================] - 167s 1s/step - loss: 0.7036 - accuracy: 0.7889 - val_loss: 0.0041 - val_accuracy: 0.9971\n",
            "Epoch 2/5\n",
            "161/161 [==============================] - 158s 979ms/step - loss: 0.0547 - accuracy: 0.9825 - val_loss: 0.0104 - val_accuracy: 0.9992\n",
            "Epoch 3/5\n",
            "161/161 [==============================] - 158s 982ms/step - loss: 0.0300 - accuracy: 0.9896 - val_loss: 1.0322e-04 - val_accuracy: 0.9994\n",
            "Epoch 4/5\n",
            "161/161 [==============================] - 160s 991ms/step - loss: 0.0228 - accuracy: 0.9921 - val_loss: 1.3897e-05 - val_accuracy: 0.9997\n",
            "Epoch 5/5\n",
            "161/161 [==============================] - 159s 985ms/step - loss: 0.0206 - accuracy: 0.9931 - val_loss: 2.3332e-06 - val_accuracy: 0.9998\n"
          ],
          "name": "stdout"
        }
      ]
    },
    {
      "cell_type": "code",
      "metadata": {
        "id": "XZ7XqZKAfUhl",
        "colab_type": "code",
        "colab": {
          "base_uri": "https://localhost:8080/",
          "height": 511
        },
        "outputId": "e690dc32-74c9-4e44-fc01-c0307a0ceeda"
      },
      "source": [
        "plot_training_metrics(history)"
      ],
      "execution_count": 26,
      "outputs": [
        {
          "output_type": "display_data",
          "data": {
            "image/png": "[encoded data removed]",
            "text/plain": [
              "<Figure size 1440x720 with 2 Axes>"
            ]
          },
          "metadata": {
            "tags": [],
            "needs_background": "light"
          }
        }
      ]
    },
    {
      "cell_type": "code",
      "metadata": {
        "id": "JGq-RrZTfdSc",
        "colab_type": "code",
        "colab": {}
      },
      "source": [
        "model.save(\"/content/drive/My Drive/Colab Notebooks/ocr_models/letters_model.h5\")"
      ],
      "execution_count": 0,
      "outputs": []
    },
    {
      "cell_type": "markdown",
      "metadata": {
        "id": "sww9MbZJfjCK",
        "colab_type": "text"
      },
      "source": [
        "## Fecha o dataset hdf5"
      ]
    },
    {
      "cell_type": "code",
      "metadata": {
        "id": "QV6c29J2K8z6",
        "colab_type": "code",
        "colab": {}
      },
      "source": [
        "dataset.close()"
      ],
      "execution_count": 0,
      "outputs": []
    }
  ]
}